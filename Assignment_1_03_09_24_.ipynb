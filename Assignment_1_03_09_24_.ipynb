{
  "nbformat": 4,
  "nbformat_minor": 0,
  "metadata": {
    "colab": {
      "provenance": []
    },
    "kernelspec": {
      "name": "python3",
      "display_name": "Python 3"
    },
    "language_info": {
      "name": "python"
    }
  },
  "cells": [
    {
      "cell_type": "markdown",
      "source": [
        "Problem 1.Write aprogram to check the year entered by the user is leap year or not.\n",
        "\n",
        "Ans: I coud not write a code for it.So,I am just submitting the second one."
      ],
      "metadata": {
        "id": "vBLFEVPlO1Xc"
      }
    },
    {
      "cell_type": "markdown",
      "source": [
        "Problem 2. Convert height ( cm to inch/feet)----Method 1"
      ],
      "metadata": {
        "id": "GVYB3Ff5ZogB"
      }
    },
    {
      "cell_type": "code",
      "source": [
        "def convert(cm):\n",
        "    inches=(cm*0.394)\n",
        "    return inches"
      ],
      "metadata": {
        "id": "rN1AfcVWjabX"
      },
      "execution_count": null,
      "outputs": []
    },
    {
      "cell_type": "code",
      "source": [
        "convert(50)"
      ],
      "metadata": {
        "colab": {
          "base_uri": "https://localhost:8080/"
        },
        "id": "YMFHvJIqcJMH",
        "outputId": "6805b59d-8b53-4478-b51b-5b570be1d3f9"
      },
      "execution_count": null,
      "outputs": [
        {
          "output_type": "execute_result",
          "data": {
            "text/plain": [
              "19.7"
            ]
          },
          "metadata": {},
          "execution_count": 10
        }
      ]
    },
    {
      "cell_type": "code",
      "source": [
        "def convert(cm):\n",
        "    feet=(cm*0.0328)\n",
        "    return feet"
      ],
      "metadata": {
        "id": "EPwcvKwpj9FH"
      },
      "execution_count": null,
      "outputs": []
    },
    {
      "cell_type": "code",
      "source": [
        "convert(50)"
      ],
      "metadata": {
        "colab": {
          "base_uri": "https://localhost:8080/"
        },
        "id": "hEOOHxRsmVxH",
        "outputId": "e94ee0f6-e406-4111-9763-12caff07b308"
      },
      "execution_count": null,
      "outputs": [
        {
          "output_type": "execute_result",
          "data": {
            "text/plain": [
              "1.6400000000000001"
            ]
          },
          "metadata": {},
          "execution_count": 15
        }
      ]
    },
    {
      "cell_type": "markdown",
      "source": [
        "Problem 2. Convert height ( cm to inch/feet)----Method 2"
      ],
      "metadata": {
        "id": "4fEYX42Tgsme"
      }
    },
    {
      "cell_type": "code",
      "source": [
        "cm= int(input())\n",
        "inch= (cm*0.3937)\n",
        "print(inch)"
      ],
      "metadata": {
        "colab": {
          "base_uri": "https://localhost:8080/"
        },
        "id": "Pah9etdtgwWP",
        "outputId": "303ab2f1-d2c2-4395-ca40-f4b5b07342de"
      },
      "execution_count": null,
      "outputs": [
        {
          "output_type": "stream",
          "name": "stdout",
          "text": [
            "50\n",
            "19.685\n"
          ]
        }
      ]
    },
    {
      "cell_type": "code",
      "source": [
        "cm= int(input())\n",
        "feet=(cm*0.0328)\n",
        "print(feet)"
      ],
      "metadata": {
        "colab": {
          "base_uri": "https://localhost:8080/"
        },
        "id": "XCNmOZWRnDiC",
        "outputId": "d583d0ff-6586-47c6-beb7-e03452191232"
      },
      "execution_count": null,
      "outputs": [
        {
          "output_type": "stream",
          "name": "stdout",
          "text": [
            "50\n",
            "1.6400000000000001\n"
          ]
        }
      ]
    }
  ]
}